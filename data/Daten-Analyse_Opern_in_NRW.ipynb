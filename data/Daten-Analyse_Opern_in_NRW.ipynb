{
 "cells": [
  {
   "cell_type": "markdown",
   "metadata": {},
   "source": [
    "# Wie divers ist die Oper in NRW?"
   ]
  },
  {
   "cell_type": "markdown",
   "metadata": {},
   "source": [
    "Wir haben per Umfrage und händischer Recherche die Spielpläne aller 13 kommunalen Bühnen in NRW mit Opern im Programm abgefragt und analysiert. Teilweise wurden Daten händisch nachgetragen und bereinigt: [opern_nrw_18_19.csv]('https://raw.githubusercontent.com/wdr-data/starter/main/content/stories/19-06-27_oper/data/opern_nrw_18_19.csv')\n",
    "\n",
    "Im zweiten Schritt haben wir eine Liste von 40.000 KomponistInnen aus WikiData abgerufen und diese mit unseren Opern-Daten verschnitten, um Geburts- und Sterbejahr und Geschlecht zuzuordnen: [komponisten.wikidata.csv]('https://raw.githubusercontent.com/wdr-data/starter/main/content/stories/19-06-27_oper/data/komponisten.csv')\n",
    "\n",
    "\n",
    "Falls Ihnen Fehler in den Daten auffallen oder sie uns eine Nachricht schicken möchten, schreiben sie gerne an data@wdr.de."
   ]
  },
  {
   "cell_type": "code",
   "execution_count": 1,
   "metadata": {},
   "outputs": [],
   "source": [
    "# Pakete laden \n",
    "\n",
    "import pandas as pd\n",
    "import wptools\n",
    "import wikidata\n",
    "import wikipedia\n",
    "import numpy as np\n",
    "import requests\n",
    "import json\n",
    "\n",
    "import matplotlib.pyplot as plt\n",
    "import seaborn\n",
    "\n",
    "pd.options.display.max_rows = 999\n",
    "pd.options.display.max_colwidth = 1000\n",
    "\n",
    "from IPython.display import IFrame \n",
    "\n",
    "%matplotlib inline "
   ]
  },
  {
   "cell_type": "code",
   "execution_count": 2,
   "metadata": {},
   "outputs": [],
   "source": [
    "# Daten einlesen \n",
    "\n",
    "df = pd.read_csv('opern_nrw_18_19.csv')"
   ]
  },
  {
   "cell_type": "code",
   "execution_count": 3,
   "metadata": {},
   "outputs": [
    {
     "data": {
      "text/html": [
       "<div>\n",
       "<style scoped>\n",
       "    .dataframe tbody tr th:only-of-type {\n",
       "        vertical-align: middle;\n",
       "    }\n",
       "\n",
       "    .dataframe tbody tr th {\n",
       "        vertical-align: top;\n",
       "    }\n",
       "\n",
       "    .dataframe thead th {\n",
       "        text-align: right;\n",
       "    }\n",
       "</style>\n",
       "<table border=\"1\" class=\"dataframe\">\n",
       "  <thead>\n",
       "    <tr style=\"text-align: right;\">\n",
       "      <th></th>\n",
       "      <th>Spielstätte</th>\n",
       "      <th>Ort</th>\n",
       "      <th>Titel</th>\n",
       "      <th>Anzahl</th>\n",
       "      <th>Komponist</th>\n",
       "      <th>Komponist_ber</th>\n",
       "      <th>Geburtsort</th>\n",
       "      <th>Geschlecht</th>\n",
       "      <th>Geburtsdatum</th>\n",
       "      <th>Geburtsjahr</th>\n",
       "      <th>Alter</th>\n",
       "      <th>Sterbedatum</th>\n",
       "      <th>Verstorben</th>\n",
       "      <th>Art</th>\n",
       "      <th>Bemerkung</th>\n",
       "    </tr>\n",
       "  </thead>\n",
       "  <tbody>\n",
       "    <tr>\n",
       "      <th>114</th>\n",
       "      <td>Theater Krefeld Mönchengladbach</td>\n",
       "      <td>Krefeld/Mönchengladbach</td>\n",
       "      <td>Nabucco</td>\n",
       "      <td>7</td>\n",
       "      <td>Giuseppe Verdi</td>\n",
       "      <td>Giuseppe Verdi</td>\n",
       "      <td>Le Roncole</td>\n",
       "      <td>männlich</td>\n",
       "      <td>1813-10-10 00:00:00+00:00</td>\n",
       "      <td>1813</td>\n",
       "      <td>206</td>\n",
       "      <td>1901</td>\n",
       "      <td>Tot</td>\n",
       "      <td>wiederaufnahmen</td>\n",
       "      <td>NaN</td>\n",
       "    </tr>\n",
       "  </tbody>\n",
       "</table>\n",
       "</div>"
      ],
      "text/plain": [
       "                         Spielstätte                      Ort    Titel  \\\n",
       "114  Theater Krefeld Mönchengladbach  Krefeld/Mönchengladbach  Nabucco   \n",
       "\n",
       "     Anzahl       Komponist   Komponist_ber  Geburtsort Geschlecht  \\\n",
       "114       7  Giuseppe Verdi  Giuseppe Verdi  Le Roncole   männlich   \n",
       "\n",
       "                  Geburtsdatum  Geburtsjahr  Alter  Sterbedatum Verstorben  \\\n",
       "114  1813-10-10 00:00:00+00:00         1813    206         1901        Tot   \n",
       "\n",
       "                 Art Bemerkung  \n",
       "114  wiederaufnahmen       NaN  "
      ]
     },
     "execution_count": 3,
     "metadata": {},
     "output_type": "execute_result"
    }
   ],
   "source": [
    "# Zufällige Zeile aus dem Datensatz ansehen\n",
    "\n",
    "df.sample()"
   ]
  },
  {
   "cell_type": "code",
   "execution_count": 4,
   "metadata": {},
   "outputs": [
    {
     "data": {
      "text/plain": [
       "(159, 15)"
      ]
     },
     "execution_count": 4,
     "metadata": {},
     "output_type": "execute_result"
    }
   ],
   "source": [
    "# Wie groß ist der Datensatz?\n",
    "\n",
    "df.shape"
   ]
  },
  {
   "cell_type": "code",
   "execution_count": 5,
   "metadata": {},
   "outputs": [
    {
     "data": {
      "text/plain": [
       "Index(['Spielstätte', 'Ort', 'Titel', 'Anzahl', 'Komponist', 'Komponist_ber',\n",
       "       'Geburtsort', 'Geschlecht', 'Geburtsdatum', 'Geburtsjahr', 'Alter',\n",
       "       'Sterbedatum', 'Verstorben', 'Art', 'Bemerkung'],\n",
       "      dtype='object')"
      ]
     },
     "execution_count": 5,
     "metadata": {},
     "output_type": "execute_result"
    }
   ],
   "source": [
    "# Welche Spalten gibt es?\n",
    "\n",
    "df.columns"
   ]
  },
  {
   "cell_type": "code",
   "execution_count": 6,
   "metadata": {},
   "outputs": [],
   "source": [
    "# Spalten auswählen\n",
    "\n",
    "df = df[['Spielstätte', 'Ort', 'Titel', 'Anzahl', 'Komponist', 'Komponist_ber',\n",
    "       'Geburtsort', 'Geschlecht', 'Geburtsjahr', 'Alter',\n",
    "       'Sterbedatum', 'Verstorben', 'Art', 'Bemerkung']]"
   ]
  },
  {
   "cell_type": "code",
   "execution_count": 7,
   "metadata": {},
   "outputs": [
    {
     "name": "stdout",
     "output_type": "stream",
     "text": [
      "<class 'pandas.core.frame.DataFrame'>\n",
      "RangeIndex: 159 entries, 0 to 158\n",
      "Data columns (total 14 columns):\n",
      "Spielstätte      159 non-null object\n",
      "Ort              159 non-null object\n",
      "Titel            159 non-null object\n",
      "Anzahl           159 non-null int64\n",
      "Komponist        146 non-null object\n",
      "Komponist_ber    159 non-null object\n",
      "Geburtsort       158 non-null object\n",
      "Geschlecht       159 non-null object\n",
      "Geburtsjahr      159 non-null int64\n",
      "Alter            159 non-null int64\n",
      "Sterbedatum      159 non-null int64\n",
      "Verstorben       159 non-null object\n",
      "Art              159 non-null object\n",
      "Bemerkung        17 non-null object\n",
      "dtypes: int64(4), object(10)\n",
      "memory usage: 17.5+ KB\n"
     ]
    }
   ],
   "source": [
    "df.info()"
   ]
  },
  {
   "cell_type": "markdown",
   "metadata": {},
   "source": [
    "## Vorab\n",
    "Vorweg: Wir jammern auf hohem Niveau. Denn alles in allem steht es gut um die Oper in Nordrhein-Westfalen. In der letzten Spielzeit stemmten die **13 kommunalen Bühnen** über **hundert Inszenierungen** – mit insgesamt **mehr als tausend Aufführungen**. In anderen Worten: Opernfreunde hatten im Schnitt jeden Tag die Wahl zwischen **rund drei Opernaufführungen**."
   ]
  },
  {
   "cell_type": "code",
   "execution_count": 442,
   "metadata": {},
   "outputs": [
    {
     "data": {
      "text/plain": [
       "1024"
      ]
     },
     "execution_count": 442,
     "metadata": {},
     "output_type": "execute_result"
    }
   ],
   "source": [
    "# Gesamtsumme der Aufführungen \n",
    "\n",
    "df.Anzahl.sum()"
   ]
  },
  {
   "cell_type": "code",
   "execution_count": 443,
   "metadata": {},
   "outputs": [
    {
     "data": {
      "text/plain": [
       "115"
      ]
     },
     "execution_count": 443,
     "metadata": {},
     "output_type": "execute_result"
    }
   ],
   "source": [
    "# Anzahl der verschiedenen gespielten Opern\n",
    "\n",
    "len(df.Titel.unique())"
   ]
  },
  {
   "cell_type": "code",
   "execution_count": 444,
   "metadata": {},
   "outputs": [
    {
     "data": {
      "text/plain": [
       "13"
      ]
     },
     "execution_count": 444,
     "metadata": {},
     "output_type": "execute_result"
    }
   ],
   "source": [
    "# Anzahl der Spielstätten\n",
    "len(df.Spielstätte.unique())"
   ]
  },
  {
   "cell_type": "code",
   "execution_count": 445,
   "metadata": {},
   "outputs": [
    {
     "data": {
      "text/plain": [
       "2.8054794520547945"
      ]
     },
     "execution_count": 445,
     "metadata": {},
     "output_type": "execute_result"
    }
   ],
   "source": [
    "df.Anzahl.sum() / 365"
   ]
  },
  {
   "cell_type": "markdown",
   "metadata": {},
   "source": [
    "## Zauberflöte vor Hänsel und Gretel"
   ]
  },
  {
   "cell_type": "code",
   "execution_count": 99,
   "metadata": {
    "scrolled": false
   },
   "outputs": [
    {
     "data": {
      "image/png": "[encoded data removed]",
      "text/plain": [
       "<Figure size 432x288 with 1 Axes>"
      ]
     },
     "metadata": {
      "needs_background": "light"
     },
     "output_type": "display_data"
    }
   ],
   "source": [
    "stücke_anzahl.hist(bins=100)\n",
    "# plt.savefig('./img/stuecke_anzahl_histogram.png')"
   ]
  },
  {
   "cell_type": "code",
   "execution_count": 248,
   "metadata": {},
   "outputs": [],
   "source": [
    "# Spalten auswählen\n",
    "stuecke_vs_anzahl = df[['Titel', 'Anzahl']]"
   ]
  },
  {
   "cell_type": "code",
   "execution_count": 251,
   "metadata": {},
   "outputs": [],
   "source": [
    "# Pivot nach Titel und Summe der Aufführungen\n",
    "stuecke_vs_anzahl = stuecke_vs_anzahl.pivot_table(index='Titel',aggfunc=['sum'])"
   ]
  },
  {
   "cell_type": "code",
   "execution_count": 256,
   "metadata": {},
   "outputs": [
    {
     "data": {
      "text/html": [
       "<div>\n",
       "<style scoped>\n",
       "    .dataframe tbody tr th:only-of-type {\n",
       "        vertical-align: middle;\n",
       "    }\n",
       "\n",
       "    .dataframe tbody tr th {\n",
       "        vertical-align: top;\n",
       "    }\n",
       "\n",
       "    .dataframe thead tr th {\n",
       "        text-align: left;\n",
       "    }\n",
       "\n",
       "    .dataframe thead tr:last-of-type th {\n",
       "        text-align: right;\n",
       "    }\n",
       "</style>\n",
       "<table border=\"1\" class=\"dataframe\">\n",
       "  <thead>\n",
       "    <tr>\n",
       "      <th></th>\n",
       "      <th>sum</th>\n",
       "    </tr>\n",
       "    <tr>\n",
       "      <th></th>\n",
       "      <th>Anzahl</th>\n",
       "    </tr>\n",
       "    <tr>\n",
       "      <th>Titel</th>\n",
       "      <th></th>\n",
       "    </tr>\n",
       "  </thead>\n",
       "  <tbody>\n",
       "    <tr>\n",
       "      <th>Die Zauberflöte</th>\n",
       "      <td>76</td>\n",
       "    </tr>\n",
       "    <tr>\n",
       "      <th>Hänsel und Gretel</th>\n",
       "      <td>34</td>\n",
       "    </tr>\n",
       "    <tr>\n",
       "      <th>La Traviata</th>\n",
       "      <td>32</td>\n",
       "    </tr>\n",
       "    <tr>\n",
       "      <th>Das Land des Lächelns</th>\n",
       "      <td>26</td>\n",
       "    </tr>\n",
       "    <tr>\n",
       "      <th>Rusalka</th>\n",
       "      <td>21</td>\n",
       "    </tr>\n",
       "  </tbody>\n",
       "</table>\n",
       "</div>"
      ],
      "text/plain": [
       "                         sum\n",
       "                      Anzahl\n",
       "Titel                       \n",
       "Die Zauberflöte           76\n",
       "Hänsel und Gretel         34\n",
       "La Traviata               32\n",
       "Das Land des Lächelns     26\n",
       "Rusalka                   21"
      ]
     },
     "execution_count": 256,
     "metadata": {},
     "output_type": "execute_result"
    }
   ],
   "source": [
    "# Sortieren nach Anzahl der Aufführungen\n",
    "stuecke_vs_anzahl = stuecke_vs_anzahl.sort_values([('sum', 'Anzahl')], ascending=False)\n",
    "stuecke_vs_anzahl.head()"
   ]
  },
  {
   "cell_type": "code",
   "execution_count": 257,
   "metadata": {},
   "outputs": [],
   "source": [
    "# Export der Daten, weiter im Datawrapper \n",
    "# stuecke_vs_anzahl.to_clipboard()"
   ]
  },
  {
   "cell_type": "markdown",
   "metadata": {},
   "source": [
    "Waren Sie in der letzten Spielzeit in der Oper? Dann haben Sie höchstwahrscheinlich Papageno, die Knusperhexe oder Leporello auf der Bühne erlebt. Denn diese Opern und Operetten standen am häufigsten auf dem Spielplan:"
   ]
  },
  {
   "cell_type": "code",
   "execution_count": 258,
   "metadata": {},
   "outputs": [
    {
     "data": {
      "text/html": [
       "\n",
       "        <iframe\n",
       "            width=\"320\"\n",
       "            height=\"598\"\n",
       "            src=\"//datawrapper.dwcdn.net/azwpu/7/\"\n",
       "            frameborder=\"0\"\n",
       "            allowfullscreen\n",
       "        ></iframe>\n",
       "        "
      ],
      "text/plain": [
       "<IPython.lib.display.IFrame at 0x7f5d5e8c1358>"
      ]
     },
     "execution_count": 258,
     "metadata": {},
     "output_type": "execute_result"
    }
   ],
   "source": [
    "# Fertige Datawrapper-Grafik\n",
    "IFrame('//datawrapper.dwcdn.net/azwpu/7/', width='320', height='598')"
   ]
  },
  {
   "cell_type": "markdown",
   "metadata": {},
   "source": [
    "## Verdi, Mozart, Wagner sind Spitzenreiter\n",
    "Während lebende KomponistInnen oft nur 1-8 mal aufgeführt werden, werden Komponisten, die über 150 Jahre alt sind besonders häufig aufgeführt. Spitzenreiter sind Guiseppe Verdi und Wolfgang Amadeus Mozart."
   ]
  },
  {
   "cell_type": "code",
   "execution_count": 44,
   "metadata": {},
   "outputs": [],
   "source": [
    "# Spalten auswählen \n",
    "age_vs_anzahl = df[['Komponist_ber', 'Geburtsjahr', 'Anzahl', 'Verstorben']]"
   ]
  },
  {
   "cell_type": "code",
   "execution_count": 56,
   "metadata": {},
   "outputs": [],
   "source": [
    "# Daten sortieren anhand Anzahl, Geburtsjahr, Verstorben\n",
    "age_vs_anzahl = age_vs_anzahl.pivot_table(values=['Anzahl', 'Geburtsjahr', 'Verstorben'], index='Komponist_ber', aggfunc={'Anzahl': 'sum', 'Geburtsjahr': 'min', 'Verstorben': 'min'})"
   ]
  },
  {
   "cell_type": "code",
   "execution_count": 57,
   "metadata": {},
   "outputs": [
    {
     "data": {
      "text/html": [
       "<div>\n",
       "<style scoped>\n",
       "    .dataframe tbody tr th:only-of-type {\n",
       "        vertical-align: middle;\n",
       "    }\n",
       "\n",
       "    .dataframe tbody tr th {\n",
       "        vertical-align: top;\n",
       "    }\n",
       "\n",
       "    .dataframe thead th {\n",
       "        text-align: right;\n",
       "    }\n",
       "</style>\n",
       "<table border=\"1\" class=\"dataframe\">\n",
       "  <thead>\n",
       "    <tr style=\"text-align: right;\">\n",
       "      <th></th>\n",
       "      <th>Anzahl</th>\n",
       "      <th>Geburtsjahr</th>\n",
       "      <th>Verstorben</th>\n",
       "    </tr>\n",
       "    <tr>\n",
       "      <th>Komponist_ber</th>\n",
       "      <th></th>\n",
       "      <th></th>\n",
       "      <th></th>\n",
       "    </tr>\n",
       "  </thead>\n",
       "  <tbody>\n",
       "    <tr>\n",
       "      <th>Giuseppe Verdi</th>\n",
       "      <td>143</td>\n",
       "      <td>1813</td>\n",
       "      <td>Tot</td>\n",
       "    </tr>\n",
       "    <tr>\n",
       "      <th>Wolfgang Amadeus Mozart</th>\n",
       "      <td>118</td>\n",
       "      <td>1756</td>\n",
       "      <td>Tot</td>\n",
       "    </tr>\n",
       "    <tr>\n",
       "      <th>Richard Wagner</th>\n",
       "      <td>68</td>\n",
       "      <td>1813</td>\n",
       "      <td>Tot</td>\n",
       "    </tr>\n",
       "    <tr>\n",
       "      <th>Jacques Offenbach</th>\n",
       "      <td>59</td>\n",
       "      <td>1819</td>\n",
       "      <td>Tot</td>\n",
       "    </tr>\n",
       "    <tr>\n",
       "      <th>Giacomo Puccini</th>\n",
       "      <td>43</td>\n",
       "      <td>1858</td>\n",
       "      <td>Tot</td>\n",
       "    </tr>\n",
       "  </tbody>\n",
       "</table>\n",
       "</div>"
      ],
      "text/plain": [
       "                         Anzahl  Geburtsjahr Verstorben\n",
       "Komponist_ber                                          \n",
       "Giuseppe Verdi              143         1813        Tot\n",
       "Wolfgang Amadeus Mozart     118         1756        Tot\n",
       "Richard Wagner               68         1813        Tot\n",
       "Jacques Offenbach            59         1819        Tot\n",
       "Giacomo Puccini              43         1858        Tot"
      ]
     },
     "execution_count": 57,
     "metadata": {},
     "output_type": "execute_result"
    }
   ],
   "source": [
    "# Anzeigen\n",
    "age_vs_anzahl.sort_values(by='Anzahl', ascending=False).head()"
   ]
  },
  {
   "cell_type": "code",
   "execution_count": 59,
   "metadata": {},
   "outputs": [],
   "source": [
    "# Als .csv speichern, zur Weiterverarbeitung im Datawrapper \n",
    "# age_vs_anzahl.to_csv('./csv/age_vs_anzahl.csv')"
   ]
  },
  {
   "cell_type": "code",
   "execution_count": 60,
   "metadata": {},
   "outputs": [
    {
     "data": {
      "text/html": [
       "\n",
       "        <iframe\n",
       "            width=\"320\"\n",
       "            height=\"400\"\n",
       "            src=\"//datawrapper.dwcdn.net/48hJE/11/\"\n",
       "            frameborder=\"0\"\n",
       "            allowfullscreen\n",
       "        ></iframe>\n",
       "        "
      ],
      "text/plain": [
       "<IPython.lib.display.IFrame at 0x7f5d5f743390>"
      ]
     },
     "execution_count": 60,
     "metadata": {},
     "output_type": "execute_result"
    }
   ],
   "source": [
    "# iFrame der fertigen Grafik \n",
    "IFrame('//datawrapper.dwcdn.net/48hJE/11/', width='320', height='400')"
   ]
  },
  {
   "cell_type": "markdown",
   "metadata": {},
   "source": [
    "Zu sehen ist das Geburtsjahr im Verhältnis zur Zahl der Aufführungen. Gelbe Quadrate stehen für lebende    KomponistInnen, blaue Punkte für verstorbene. Klicken Sie darauf, um Name, Geburtsjahr und Zahl der Aufführungen zu sehen."
   ]
  },
  {
   "cell_type": "markdown",
   "metadata": {},
   "source": [
    "Bei Leonard Bernstein und Jacques Offenbach sieht man, dass die großen Jubiläumsjahre sehr erfolgreich darin waren, diese Komponisten wieder auf die Spielpläne zu setzen. Trotzdem sind die großen Namen meistens Verdi, Mozart, Wagner und Puccini - ihre Opern machen etwa ein Drittel der Aufführungen aus. Giuseppe Verdi führt diese Liste mit Abstand an – seine Opern sind gleich 13 mal inszeniert und insgesamt 143 mal aufgeführt worden."
   ]
  },
  {
   "cell_type": "markdown",
   "metadata": {},
   "source": [
    "Zum Beispiel: Claudio Monteverdi war mit 425 Jahren der älteste gespielte Komponist 2018/19. Leonard Evers mit 34 der jüngste."
   ]
  },
  {
   "cell_type": "code",
   "execution_count": 386,
   "metadata": {},
   "outputs": [
    {
     "data": {
      "text/html": [
       "<div>\n",
       "<style scoped>\n",
       "    .dataframe tbody tr th:only-of-type {\n",
       "        vertical-align: middle;\n",
       "    }\n",
       "\n",
       "    .dataframe tbody tr th {\n",
       "        vertical-align: top;\n",
       "    }\n",
       "\n",
       "    .dataframe thead th {\n",
       "        text-align: right;\n",
       "    }\n",
       "</style>\n",
       "<table border=\"1\" class=\"dataframe\">\n",
       "  <thead>\n",
       "    <tr style=\"text-align: right;\">\n",
       "      <th></th>\n",
       "      <th>Spielstätte</th>\n",
       "      <th>Ort</th>\n",
       "      <th>Titel</th>\n",
       "      <th>Anzahl</th>\n",
       "      <th>Komponist</th>\n",
       "      <th>Komponist_ber</th>\n",
       "      <th>Geburtsort</th>\n",
       "      <th>Geschlecht</th>\n",
       "      <th>Geburtsjahr</th>\n",
       "      <th>Alter</th>\n",
       "      <th>Sterbedatum</th>\n",
       "      <th>Verstorben</th>\n",
       "      <th>Art</th>\n",
       "      <th>Bemerkung</th>\n",
       "    </tr>\n",
       "  </thead>\n",
       "  <tbody>\n",
       "    <tr>\n",
       "      <th>0</th>\n",
       "      <td>Deutsche Oper am Rhein</td>\n",
       "      <td>Düsseldorf/Duisburg</td>\n",
       "      <td>Gold!</td>\n",
       "      <td>7</td>\n",
       "      <td>NaN</td>\n",
       "      <td>Leonard Evers</td>\n",
       "      <td>Heerlen</td>\n",
       "      <td>männlich</td>\n",
       "      <td>1985</td>\n",
       "      <td>34</td>\n",
       "      <td>0</td>\n",
       "      <td>lebt</td>\n",
       "      <td>sonstiges</td>\n",
       "      <td>Premiere oder Wiederaufnahme?</td>\n",
       "    </tr>\n",
       "  </tbody>\n",
       "</table>\n",
       "</div>"
      ],
      "text/plain": [
       "              Spielstätte                  Ort  Titel  Anzahl Komponist  \\\n",
       "0  Deutsche Oper am Rhein  Düsseldorf/Duisburg  Gold!       7       NaN   \n",
       "\n",
       "   Komponist_ber Geburtsort Geschlecht  Geburtsjahr  Alter  Sterbedatum  \\\n",
       "0  Leonard Evers    Heerlen   männlich         1985     34            0   \n",
       "\n",
       "  Verstorben        Art                      Bemerkung  \n",
       "0       lebt  sonstiges  Premiere oder Wiederaufnahme?  "
      ]
     },
     "execution_count": 386,
     "metadata": {},
     "output_type": "execute_result"
    }
   ],
   "source": [
    "df.sort_values(by='Alter', ascending=True).head(1)"
   ]
  },
  {
   "cell_type": "code",
   "execution_count": 446,
   "metadata": {},
   "outputs": [
    {
     "data": {
      "text/plain": [
       "13"
      ]
     },
     "execution_count": 446,
     "metadata": {},
     "output_type": "execute_result"
    }
   ],
   "source": [
    "len(set(df[df.Komponist_ber == 'Giuseppe Verdi'].Titel))"
   ]
  },
  {
   "cell_type": "code",
   "execution_count": 447,
   "metadata": {},
   "outputs": [
    {
     "data": {
      "text/plain": [
       "{'Aida',\n",
       " 'Die sizilianische Vesper',\n",
       " 'Don Carlo',\n",
       " 'Falstaff',\n",
       " 'Jérusalem',\n",
       " 'La Traviata',\n",
       " 'La forza del destino',\n",
       " 'Luisa Miller',\n",
       " 'Nabucco',\n",
       " 'Otello',\n",
       " 'Rigoletto',\n",
       " 'Simon Boccanegra',\n",
       " 'Viva Verdi'}"
      ]
     },
     "execution_count": 447,
     "metadata": {},
     "output_type": "execute_result"
    }
   ],
   "source": [
    "set(df[df.Komponist_ber == 'Giuseppe Verdi'].Titel)"
   ]
  },
  {
   "cell_type": "markdown",
   "metadata": {},
   "source": [
    "## Jeder dritte Komponist lebt - wird aber kaum aufgeführt"
   ]
  },
  {
   "cell_type": "code",
   "execution_count": 389,
   "metadata": {},
   "outputs": [
    {
     "data": {
      "text/plain": [
       "181.0"
      ]
     },
     "execution_count": 389,
     "metadata": {},
     "output_type": "execute_result"
    }
   ],
   "source": [
    "# Durchschnittsalter (Median) berechnen\n",
    "composers_age = df[['Komponist_ber', 'Alter']]\n",
    "composer_age = composers_age[composers_age.Alter.notnull()]\n",
    "composers_age.Alter.median()"
   ]
  },
  {
   "cell_type": "code",
   "execution_count": 393,
   "metadata": {},
   "outputs": [
    {
     "data": {
      "text/plain": [
       "175.88050314465409"
      ]
     },
     "execution_count": 393,
     "metadata": {},
     "output_type": "execute_result"
    }
   ],
   "source": [
    "# Durchschnittsalter (Arithmetisches Mittel) berechnen\n",
    "composers_age.Alter.mean()"
   ]
  },
  {
   "cell_type": "code",
   "execution_count": 395,
   "metadata": {},
   "outputs": [
    {
     "data": {
      "text/plain": [
       "0    206\n",
       "dtype: int64"
      ]
     },
     "execution_count": 395,
     "metadata": {},
     "output_type": "execute_result"
    }
   ],
   "source": [
    "# Durchschnittsalter (Mode) berechnen\n",
    "composers_age.Alter.mode()"
   ]
  },
  {
   "cell_type": "code",
   "execution_count": 396,
   "metadata": {},
   "outputs": [
    {
     "data": {
      "text/plain": [
       "array([[<matplotlib.axes._subplots.AxesSubplot object at 0x7f5d5ce48cc0>]],\n",
       "      dtype=object)"
      ]
     },
     "execution_count": 396,
     "metadata": {},
     "output_type": "execute_result"
    },
    {
     "data": {
      "image/png": "[encoded data removed]",
      "text/plain": [
       "<Figure size 432x288 with 1 Axes>"
      ]
     },
     "metadata": {
      "needs_background": "light"
     },
     "output_type": "display_data"
    }
   ],
   "source": [
    "# Werteverteilung für Alter \n",
    "composers_age.hist()"
   ]
  },
  {
   "cell_type": "markdown",
   "metadata": {},
   "source": [
    "Nur 17 der 66 gespielten Komponisten leben noch, das sind 27 Prozent. Schaut man allerdings auf die Gesamtanzahl aller gespielten Aufführungen, dann liegen die lebenden Komponisten bei nur noch 9 Prozent. Ist die Opernwelt im 19. Jahrhundert stehen geblieben?"
   ]
  },
  {
   "cell_type": "code",
   "execution_count": 398,
   "metadata": {},
   "outputs": [
    {
     "data": {
      "text/plain": [
       "66"
      ]
     },
     "execution_count": 398,
     "metadata": {},
     "output_type": "execute_result"
    }
   ],
   "source": [
    "composers = df[['Titel', 'Komponist_ber', 'Anzahl']]\n",
    "len(set(composers.Komponist_ber))"
   ]
  },
  {
   "cell_type": "code",
   "execution_count": 399,
   "metadata": {},
   "outputs": [
    {
     "data": {
      "text/html": [
       "<div>\n",
       "<style scoped>\n",
       "    .dataframe tbody tr th:only-of-type {\n",
       "        vertical-align: middle;\n",
       "    }\n",
       "\n",
       "    .dataframe tbody tr th {\n",
       "        vertical-align: top;\n",
       "    }\n",
       "\n",
       "    .dataframe thead th {\n",
       "        text-align: right;\n",
       "    }\n",
       "</style>\n",
       "<table border=\"1\" class=\"dataframe\">\n",
       "  <thead>\n",
       "    <tr style=\"text-align: right;\">\n",
       "      <th></th>\n",
       "      <th>Komponist_ber</th>\n",
       "    </tr>\n",
       "    <tr>\n",
       "      <th>Verstorben</th>\n",
       "      <th></th>\n",
       "    </tr>\n",
       "  </thead>\n",
       "  <tbody>\n",
       "    <tr>\n",
       "      <th>Tot</th>\n",
       "      <td>49</td>\n",
       "    </tr>\n",
       "    <tr>\n",
       "      <th>lebt</th>\n",
       "      <td>17</td>\n",
       "    </tr>\n",
       "  </tbody>\n",
       "</table>\n",
       "</div>"
      ],
      "text/plain": [
       "            Komponist_ber\n",
       "Verstorben               \n",
       "Tot                    49\n",
       "lebt                   17"
      ]
     },
     "execution_count": 399,
     "metadata": {},
     "output_type": "execute_result"
    }
   ],
   "source": [
    "# Anteil lebend / verstorben Anzeigen\n",
    "composers_alive = df[['Komponist_ber', 'Verstorben']]\n",
    "alive = composers_alive[composers_alive.Verstorben == 'lebt']\n",
    "composers_alive = composers_alive.drop_duplicates()\n",
    "composers_alive = composers_alive.groupby('Verstorben').count()\n",
    "composers_alive"
   ]
  },
  {
   "cell_type": "code",
   "execution_count": 400,
   "metadata": {},
   "outputs": [
    {
     "data": {
      "text/html": [
       "<div>\n",
       "<style scoped>\n",
       "    .dataframe tbody tr th:only-of-type {\n",
       "        vertical-align: middle;\n",
       "    }\n",
       "\n",
       "    .dataframe tbody tr th {\n",
       "        vertical-align: top;\n",
       "    }\n",
       "\n",
       "    .dataframe thead th {\n",
       "        text-align: right;\n",
       "    }\n",
       "</style>\n",
       "<table border=\"1\" class=\"dataframe\">\n",
       "  <thead>\n",
       "    <tr style=\"text-align: right;\">\n",
       "      <th></th>\n",
       "      <th>Komponist_ber</th>\n",
       "      <th>%</th>\n",
       "    </tr>\n",
       "    <tr>\n",
       "      <th>Verstorben</th>\n",
       "      <th></th>\n",
       "      <th></th>\n",
       "    </tr>\n",
       "  </thead>\n",
       "  <tbody>\n",
       "    <tr>\n",
       "      <th>Tot</th>\n",
       "      <td>49</td>\n",
       "      <td>74.0</td>\n",
       "    </tr>\n",
       "    <tr>\n",
       "      <th>lebt</th>\n",
       "      <td>17</td>\n",
       "      <td>26.0</td>\n",
       "    </tr>\n",
       "  </tbody>\n",
       "</table>\n",
       "</div>"
      ],
      "text/plain": [
       "            Komponist_ber     %\n",
       "Verstorben                     \n",
       "Tot                    49  74.0\n",
       "lebt                   17  26.0"
      ]
     },
     "execution_count": 400,
     "metadata": {},
     "output_type": "execute_result"
    }
   ],
   "source": [
    "# Prozente berechnen\n",
    "composers_alive['%']= composers_alive.Komponist_ber.apply(lambda x: round(x / composers_alive.Komponist_ber.sum() * 100))\n",
    "composers_alive"
   ]
  },
  {
   "cell_type": "code",
   "execution_count": 401,
   "metadata": {},
   "outputs": [
    {
     "data": {
      "text/html": [
       "<div>\n",
       "<style scoped>\n",
       "    .dataframe tbody tr th:only-of-type {\n",
       "        vertical-align: middle;\n",
       "    }\n",
       "\n",
       "    .dataframe tbody tr th {\n",
       "        vertical-align: top;\n",
       "    }\n",
       "\n",
       "    .dataframe thead th {\n",
       "        text-align: right;\n",
       "    }\n",
       "</style>\n",
       "<table border=\"1\" class=\"dataframe\">\n",
       "  <thead>\n",
       "    <tr style=\"text-align: right;\">\n",
       "      <th></th>\n",
       "      <th>Anzahl</th>\n",
       "    </tr>\n",
       "    <tr>\n",
       "      <th>Verstorben</th>\n",
       "      <th></th>\n",
       "    </tr>\n",
       "  </thead>\n",
       "  <tbody>\n",
       "    <tr>\n",
       "      <th>Tot</th>\n",
       "      <td>929</td>\n",
       "    </tr>\n",
       "    <tr>\n",
       "      <th>lebt</th>\n",
       "      <td>95</td>\n",
       "    </tr>\n",
       "  </tbody>\n",
       "</table>\n",
       "</div>"
      ],
      "text/plain": [
       "            Anzahl\n",
       "Verstorben        \n",
       "Tot            929\n",
       "lebt            95"
      ]
     },
     "execution_count": 401,
     "metadata": {},
     "output_type": "execute_result"
    }
   ],
   "source": [
    "# Anteil lebend / verstorben an Aufführungen berechnen \n",
    "composers_anzahl_verstorben = df[['Komponist_ber', 'Verstorben', 'Anzahl']]\n",
    "composers_anzahl_verstorben = composers_anzahl_verstorben.groupby('Verstorben').sum()\n",
    "composers_anzahl_verstorben"
   ]
  },
  {
   "cell_type": "code",
   "execution_count": 402,
   "metadata": {},
   "outputs": [
    {
     "data": {
      "text/html": [
       "<div>\n",
       "<style scoped>\n",
       "    .dataframe tbody tr th:only-of-type {\n",
       "        vertical-align: middle;\n",
       "    }\n",
       "\n",
       "    .dataframe tbody tr th {\n",
       "        vertical-align: top;\n",
       "    }\n",
       "\n",
       "    .dataframe thead th {\n",
       "        text-align: right;\n",
       "    }\n",
       "</style>\n",
       "<table border=\"1\" class=\"dataframe\">\n",
       "  <thead>\n",
       "    <tr style=\"text-align: right;\">\n",
       "      <th></th>\n",
       "      <th>Anzahl</th>\n",
       "      <th>%</th>\n",
       "    </tr>\n",
       "    <tr>\n",
       "      <th>Verstorben</th>\n",
       "      <th></th>\n",
       "      <th></th>\n",
       "    </tr>\n",
       "  </thead>\n",
       "  <tbody>\n",
       "    <tr>\n",
       "      <th>Tot</th>\n",
       "      <td>929</td>\n",
       "      <td>91.0</td>\n",
       "    </tr>\n",
       "    <tr>\n",
       "      <th>lebt</th>\n",
       "      <td>95</td>\n",
       "      <td>9.0</td>\n",
       "    </tr>\n",
       "  </tbody>\n",
       "</table>\n",
       "</div>"
      ],
      "text/plain": [
       "            Anzahl     %\n",
       "Verstorben              \n",
       "Tot            929  91.0\n",
       "lebt            95   9.0"
      ]
     },
     "execution_count": 402,
     "metadata": {},
     "output_type": "execute_result"
    }
   ],
   "source": [
    "# Prozente berechnen \n",
    "composers_anzahl_verstorben['%'] = composers_anzahl_verstorben.Anzahl.apply(lambda x: round(x / composers_anzahl_verstorben.Anzahl.sum() * 100))\n",
    "composers_anzahl_verstorben"
   ]
  },
  {
   "cell_type": "code",
   "execution_count": 403,
   "metadata": {},
   "outputs": [
    {
     "data": {
      "text/html": [
       "\n",
       "        <iframe\n",
       "            width=\"320\"\n",
       "            height=\"303\"\n",
       "            src=\"//datawrapper.dwcdn.net/6D2bM/4/\"\n",
       "            frameborder=\"0\"\n",
       "            allowfullscreen\n",
       "        ></iframe>\n",
       "        "
      ],
      "text/plain": [
       "<IPython.lib.display.IFrame at 0x7f5d5e966940>"
      ]
     },
     "execution_count": 403,
     "metadata": {},
     "output_type": "execute_result"
    }
   ],
   "source": [
    "# iFrame der fertigen Grafik \n",
    "IFrame('//datawrapper.dwcdn.net/6D2bM/4/', width='320', height='303')"
   ]
  },
  {
   "cell_type": "markdown",
   "metadata": {},
   "source": [
    "## Dortmund, Wuppertal und Düsseldorf/Duisburg sind die lebendigsten Häuser"
   ]
  },
  {
   "cell_type": "code",
   "execution_count": 448,
   "metadata": {},
   "outputs": [],
   "source": [
    "# Spalten auswählen\n",
    "häuser_anteil_lebend_composer = df[['Ort', 'Verstorben', 'Komponist_ber']]"
   ]
  },
  {
   "cell_type": "code",
   "execution_count": 414,
   "metadata": {},
   "outputs": [],
   "source": [
    "# Doppelte Einträge entfernen\n",
    "häuser_anteil_lebend_composer = häuser_anteil_lebend_composer.drop_duplicates()"
   ]
  },
  {
   "cell_type": "code",
   "execution_count": 415,
   "metadata": {},
   "outputs": [
    {
     "data": {
      "text/html": [
       "<div>\n",
       "<style scoped>\n",
       "    .dataframe tbody tr th:only-of-type {\n",
       "        vertical-align: middle;\n",
       "    }\n",
       "\n",
       "    .dataframe tbody tr th {\n",
       "        vertical-align: top;\n",
       "    }\n",
       "\n",
       "    .dataframe thead th {\n",
       "        text-align: right;\n",
       "    }\n",
       "</style>\n",
       "<table border=\"1\" class=\"dataframe\">\n",
       "  <thead>\n",
       "    <tr style=\"text-align: right;\">\n",
       "      <th>Verstorben</th>\n",
       "      <th>Tot</th>\n",
       "      <th>lebt</th>\n",
       "    </tr>\n",
       "    <tr>\n",
       "      <th>Ort</th>\n",
       "      <th></th>\n",
       "      <th></th>\n",
       "    </tr>\n",
       "  </thead>\n",
       "  <tbody>\n",
       "    <tr>\n",
       "      <th>Aachen</th>\n",
       "      <td>7.0</td>\n",
       "      <td>NaN</td>\n",
       "    </tr>\n",
       "    <tr>\n",
       "      <th>Bielefeld</th>\n",
       "      <td>6.0</td>\n",
       "      <td>1.0</td>\n",
       "    </tr>\n",
       "    <tr>\n",
       "      <th>Bonn</th>\n",
       "      <td>9.0</td>\n",
       "      <td>2.0</td>\n",
       "    </tr>\n",
       "    <tr>\n",
       "      <th>Dortmund</th>\n",
       "      <td>6.0</td>\n",
       "      <td>3.0</td>\n",
       "    </tr>\n",
       "    <tr>\n",
       "      <th>Düsseldorf/Duisburg</th>\n",
       "      <td>16.0</td>\n",
       "      <td>4.0</td>\n",
       "    </tr>\n",
       "    <tr>\n",
       "      <th>Essen</th>\n",
       "      <td>10.0</td>\n",
       "      <td>1.0</td>\n",
       "    </tr>\n",
       "    <tr>\n",
       "      <th>Gelsenkirchen</th>\n",
       "      <td>10.0</td>\n",
       "      <td>2.0</td>\n",
       "    </tr>\n",
       "    <tr>\n",
       "      <th>Hagen</th>\n",
       "      <td>8.0</td>\n",
       "      <td>NaN</td>\n",
       "    </tr>\n",
       "    <tr>\n",
       "      <th>Herford</th>\n",
       "      <td>4.0</td>\n",
       "      <td>NaN</td>\n",
       "    </tr>\n",
       "    <tr>\n",
       "      <th>Krefeld/Mönchengladbach</th>\n",
       "      <td>9.0</td>\n",
       "      <td>2.0</td>\n",
       "    </tr>\n",
       "    <tr>\n",
       "      <th>Köln</th>\n",
       "      <td>15.0</td>\n",
       "      <td>2.0</td>\n",
       "    </tr>\n",
       "    <tr>\n",
       "      <th>Minden</th>\n",
       "      <td>1.0</td>\n",
       "      <td>NaN</td>\n",
       "    </tr>\n",
       "    <tr>\n",
       "      <th>Wuppertal</th>\n",
       "      <td>7.0</td>\n",
       "      <td>2.0</td>\n",
       "    </tr>\n",
       "  </tbody>\n",
       "</table>\n",
       "</div>"
      ],
      "text/plain": [
       "Verstorben                Tot  lebt\n",
       "Ort                                \n",
       "Aachen                    7.0   NaN\n",
       "Bielefeld                 6.0   1.0\n",
       "Bonn                      9.0   2.0\n",
       "Dortmund                  6.0   3.0\n",
       "Düsseldorf/Duisburg      16.0   4.0\n",
       "Essen                    10.0   1.0\n",
       "Gelsenkirchen            10.0   2.0\n",
       "Hagen                     8.0   NaN\n",
       "Herford                   4.0   NaN\n",
       "Krefeld/Mönchengladbach   9.0   2.0\n",
       "Köln                     15.0   2.0\n",
       "Minden                    1.0   NaN\n",
       "Wuppertal                 7.0   2.0"
      ]
     },
     "execution_count": 415,
     "metadata": {},
     "output_type": "execute_result"
    }
   ],
   "source": [
    "# Pivot nach Orten und lebenden KomponistInnen\n",
    "häuser_anteil_lebend_composer = pd.pivot_table(häuser_anteil_lebend_composer, values='Komponist_ber', index=['Ort'], columns=['Verstorben'], aggfunc='count')\n",
    "häuser_anteil_lebend_composer"
   ]
  },
  {
   "cell_type": "code",
   "execution_count": 416,
   "metadata": {},
   "outputs": [],
   "source": [
    "# NaN-Werte durch 0 ersetzen\n",
    "häuser_anteil_lebend_composer = häuser_anteil_lebend_composer.fillna(0)"
   ]
  },
  {
   "cell_type": "code",
   "execution_count": 419,
   "metadata": {},
   "outputs": [],
   "source": [
    "# Gesamtzahl berechnen \n",
    "häuser_anteil_lebend_composer['Gesamt'] = häuser_anteil_lebend_composer.Tot + häuser_anteil_lebend_composer.lebt "
   ]
  },
  {
   "cell_type": "code",
   "execution_count": 420,
   "metadata": {},
   "outputs": [],
   "source": [
    "# Prozentsatz berechnen\n",
    "häuser_anteil_lebend_composer['% tot'] = round(häuser_anteil_lebend_composer.Tot / häuser_anteil_lebend_composer.Gesamt*100)"
   ]
  },
  {
   "cell_type": "code",
   "execution_count": 421,
   "metadata": {},
   "outputs": [
    {
     "data": {
      "text/html": [
       "<div>\n",
       "<style scoped>\n",
       "    .dataframe tbody tr th:only-of-type {\n",
       "        vertical-align: middle;\n",
       "    }\n",
       "\n",
       "    .dataframe tbody tr th {\n",
       "        vertical-align: top;\n",
       "    }\n",
       "\n",
       "    .dataframe thead th {\n",
       "        text-align: right;\n",
       "    }\n",
       "</style>\n",
       "<table border=\"1\" class=\"dataframe\">\n",
       "  <thead>\n",
       "    <tr style=\"text-align: right;\">\n",
       "      <th>Verstorben</th>\n",
       "      <th>Tot</th>\n",
       "      <th>lebt</th>\n",
       "      <th>Gesamt</th>\n",
       "      <th>% tot</th>\n",
       "    </tr>\n",
       "    <tr>\n",
       "      <th>Ort</th>\n",
       "      <th></th>\n",
       "      <th></th>\n",
       "      <th></th>\n",
       "      <th></th>\n",
       "    </tr>\n",
       "  </thead>\n",
       "  <tbody>\n",
       "    <tr>\n",
       "      <th>Dortmund</th>\n",
       "      <td>6.0</td>\n",
       "      <td>3.0</td>\n",
       "      <td>9.0</td>\n",
       "      <td>67.0</td>\n",
       "    </tr>\n",
       "    <tr>\n",
       "      <th>Wuppertal</th>\n",
       "      <td>7.0</td>\n",
       "      <td>2.0</td>\n",
       "      <td>9.0</td>\n",
       "      <td>78.0</td>\n",
       "    </tr>\n",
       "    <tr>\n",
       "      <th>Düsseldorf/Duisburg</th>\n",
       "      <td>16.0</td>\n",
       "      <td>4.0</td>\n",
       "      <td>20.0</td>\n",
       "      <td>80.0</td>\n",
       "    </tr>\n",
       "    <tr>\n",
       "      <th>Bonn</th>\n",
       "      <td>9.0</td>\n",
       "      <td>2.0</td>\n",
       "      <td>11.0</td>\n",
       "      <td>82.0</td>\n",
       "    </tr>\n",
       "    <tr>\n",
       "      <th>Krefeld/Mönchengladbach</th>\n",
       "      <td>9.0</td>\n",
       "      <td>2.0</td>\n",
       "      <td>11.0</td>\n",
       "      <td>82.0</td>\n",
       "    </tr>\n",
       "    <tr>\n",
       "      <th>Gelsenkirchen</th>\n",
       "      <td>10.0</td>\n",
       "      <td>2.0</td>\n",
       "      <td>12.0</td>\n",
       "      <td>83.0</td>\n",
       "    </tr>\n",
       "    <tr>\n",
       "      <th>Bielefeld</th>\n",
       "      <td>6.0</td>\n",
       "      <td>1.0</td>\n",
       "      <td>7.0</td>\n",
       "      <td>86.0</td>\n",
       "    </tr>\n",
       "    <tr>\n",
       "      <th>Köln</th>\n",
       "      <td>15.0</td>\n",
       "      <td>2.0</td>\n",
       "      <td>17.0</td>\n",
       "      <td>88.0</td>\n",
       "    </tr>\n",
       "    <tr>\n",
       "      <th>Essen</th>\n",
       "      <td>10.0</td>\n",
       "      <td>1.0</td>\n",
       "      <td>11.0</td>\n",
       "      <td>91.0</td>\n",
       "    </tr>\n",
       "    <tr>\n",
       "      <th>Aachen</th>\n",
       "      <td>7.0</td>\n",
       "      <td>0.0</td>\n",
       "      <td>7.0</td>\n",
       "      <td>100.0</td>\n",
       "    </tr>\n",
       "    <tr>\n",
       "      <th>Hagen</th>\n",
       "      <td>8.0</td>\n",
       "      <td>0.0</td>\n",
       "      <td>8.0</td>\n",
       "      <td>100.0</td>\n",
       "    </tr>\n",
       "    <tr>\n",
       "      <th>Herford</th>\n",
       "      <td>4.0</td>\n",
       "      <td>0.0</td>\n",
       "      <td>4.0</td>\n",
       "      <td>100.0</td>\n",
       "    </tr>\n",
       "    <tr>\n",
       "      <th>Minden</th>\n",
       "      <td>1.0</td>\n",
       "      <td>0.0</td>\n",
       "      <td>1.0</td>\n",
       "      <td>100.0</td>\n",
       "    </tr>\n",
       "  </tbody>\n",
       "</table>\n",
       "</div>"
      ],
      "text/plain": [
       "Verstorben                Tot  lebt  Gesamt  % tot\n",
       "Ort                                               \n",
       "Dortmund                  6.0   3.0     9.0   67.0\n",
       "Wuppertal                 7.0   2.0     9.0   78.0\n",
       "Düsseldorf/Duisburg      16.0   4.0    20.0   80.0\n",
       "Bonn                      9.0   2.0    11.0   82.0\n",
       "Krefeld/Mönchengladbach   9.0   2.0    11.0   82.0\n",
       "Gelsenkirchen            10.0   2.0    12.0   83.0\n",
       "Bielefeld                 6.0   1.0     7.0   86.0\n",
       "Köln                     15.0   2.0    17.0   88.0\n",
       "Essen                    10.0   1.0    11.0   91.0\n",
       "Aachen                    7.0   0.0     7.0  100.0\n",
       "Hagen                     8.0   0.0     8.0  100.0\n",
       "Herford                   4.0   0.0     4.0  100.0\n",
       "Minden                    1.0   0.0     1.0  100.0"
      ]
     },
     "execution_count": 421,
     "metadata": {},
     "output_type": "execute_result"
    }
   ],
   "source": [
    "häuser_anteil_lebend_composer = häuser_anteil_lebend_composer.sort_values('% tot') \n",
    "häuser_anteil_lebend_composer"
   ]
  },
  {
   "cell_type": "code",
   "execution_count": null,
   "metadata": {},
   "outputs": [],
   "source": [
    "# Daten für Datawrapper exportieren \n",
    "# häuser_anteil_lebend_composer.to_clipboard()"
   ]
  },
  {
   "cell_type": "code",
   "execution_count": 422,
   "metadata": {},
   "outputs": [
    {
     "data": {
      "text/html": [
       "\n",
       "        <iframe\n",
       "            width=\"320\"\n",
       "            height=\"471\"\n",
       "            src=\"//datawrapper.dwcdn.net/Nidhc/3/\"\n",
       "            frameborder=\"0\"\n",
       "            allowfullscreen\n",
       "        ></iframe>\n",
       "        "
      ],
      "text/plain": [
       "<IPython.lib.display.IFrame at 0x7f5d5ebbfe10>"
      ]
     },
     "execution_count": 422,
     "metadata": {},
     "output_type": "execute_result"
    }
   ],
   "source": [
    "# iFrame der fertigen Grafik \n",
    "IFrame('//datawrapper.dwcdn.net/Nidhc/3/', width='320', height='471')"
   ]
  },
  {
   "cell_type": "markdown",
   "metadata": {},
   "source": [
    "## Nuria Núñez Hierro ist die einzige Frau"
   ]
  },
  {
   "cell_type": "code",
   "execution_count": 423,
   "metadata": {},
   "outputs": [],
   "source": [
    "gender = df[['Komponist_ber', 'Geschlecht']]"
   ]
  },
  {
   "cell_type": "code",
   "execution_count": 424,
   "metadata": {},
   "outputs": [],
   "source": [
    "gender = gender.drop_duplicates()"
   ]
  },
  {
   "cell_type": "code",
   "execution_count": 425,
   "metadata": {},
   "outputs": [
    {
     "data": {
      "text/html": [
       "<div>\n",
       "<style scoped>\n",
       "    .dataframe tbody tr th:only-of-type {\n",
       "        vertical-align: middle;\n",
       "    }\n",
       "\n",
       "    .dataframe tbody tr th {\n",
       "        vertical-align: top;\n",
       "    }\n",
       "\n",
       "    .dataframe thead th {\n",
       "        text-align: right;\n",
       "    }\n",
       "</style>\n",
       "<table border=\"1\" class=\"dataframe\">\n",
       "  <thead>\n",
       "    <tr style=\"text-align: right;\">\n",
       "      <th></th>\n",
       "      <th>Komponist_ber</th>\n",
       "    </tr>\n",
       "    <tr>\n",
       "      <th>Geschlecht</th>\n",
       "      <th></th>\n",
       "    </tr>\n",
       "  </thead>\n",
       "  <tbody>\n",
       "    <tr>\n",
       "      <th>männlich</th>\n",
       "      <td>65</td>\n",
       "    </tr>\n",
       "    <tr>\n",
       "      <th>weiblich</th>\n",
       "      <td>1</td>\n",
       "    </tr>\n",
       "  </tbody>\n",
       "</table>\n",
       "</div>"
      ],
      "text/plain": [
       "            Komponist_ber\n",
       "Geschlecht               \n",
       "männlich               65\n",
       "weiblich                1"
      ]
     },
     "execution_count": 425,
     "metadata": {},
     "output_type": "execute_result"
    }
   ],
   "source": [
    "gender = gender.groupby('Geschlecht').count()\n",
    "gender"
   ]
  },
  {
   "cell_type": "code",
   "execution_count": 426,
   "metadata": {},
   "outputs": [
    {
     "data": {
      "text/html": [
       "<div>\n",
       "<style scoped>\n",
       "    .dataframe tbody tr th:only-of-type {\n",
       "        vertical-align: middle;\n",
       "    }\n",
       "\n",
       "    .dataframe tbody tr th {\n",
       "        vertical-align: top;\n",
       "    }\n",
       "\n",
       "    .dataframe thead th {\n",
       "        text-align: right;\n",
       "    }\n",
       "</style>\n",
       "<table border=\"1\" class=\"dataframe\">\n",
       "  <thead>\n",
       "    <tr style=\"text-align: right;\">\n",
       "      <th></th>\n",
       "      <th>Anzahl</th>\n",
       "    </tr>\n",
       "    <tr>\n",
       "      <th>Geschlecht</th>\n",
       "      <th></th>\n",
       "    </tr>\n",
       "  </thead>\n",
       "  <tbody>\n",
       "    <tr>\n",
       "      <th>männlich</th>\n",
       "      <td>1016</td>\n",
       "    </tr>\n",
       "    <tr>\n",
       "      <th>weiblich</th>\n",
       "      <td>8</td>\n",
       "    </tr>\n",
       "  </tbody>\n",
       "</table>\n",
       "</div>"
      ],
      "text/plain": [
       "            Anzahl\n",
       "Geschlecht        \n",
       "männlich      1016\n",
       "weiblich         8"
      ]
     },
     "execution_count": 426,
     "metadata": {},
     "output_type": "execute_result"
    }
   ],
   "source": [
    "gender_anzahl = df[['Komponist_ber', 'Geschlecht', 'Anzahl']]\n",
    "gender_anzahl = gender_anzahl.groupby('Geschlecht').sum()\n",
    "gender_anzahl"
   ]
  },
  {
   "cell_type": "code",
   "execution_count": 427,
   "metadata": {},
   "outputs": [
    {
     "data": {
      "text/plain": [
       "1"
      ]
     },
     "execution_count": 427,
     "metadata": {},
     "output_type": "execute_result"
    }
   ],
   "source": [
    "# Prozent berechnen \n",
    "round((8/1024)*100)"
   ]
  },
  {
   "cell_type": "code",
   "execution_count": 428,
   "metadata": {},
   "outputs": [
    {
     "data": {
      "text/plain": [
       "99"
      ]
     },
     "execution_count": 428,
     "metadata": {},
     "output_type": "execute_result"
    }
   ],
   "source": [
    "# Prozent berechnen \n",
    "round((1016/1024)*100)"
   ]
  },
  {
   "cell_type": "code",
   "execution_count": 429,
   "metadata": {},
   "outputs": [
    {
     "data": {
      "text/html": [
       "\n",
       "        <iframe\n",
       "            width=\"320\"\n",
       "            height=\"316\"\n",
       "            src=\"//datawrapper.dwcdn.net/T56o1/2/\"\n",
       "            frameborder=\"0\"\n",
       "            allowfullscreen\n",
       "        ></iframe>\n",
       "        "
      ],
      "text/plain": [
       "<IPython.lib.display.IFrame at 0x7f5d5ea8f710>"
      ]
     },
     "execution_count": 429,
     "metadata": {},
     "output_type": "execute_result"
    }
   ],
   "source": [
    "# iFrame der fertigen Grafik \n",
    "IFrame('//datawrapper.dwcdn.net/T56o1/2/', width='320', height='316')"
   ]
  },
  {
   "cell_type": "markdown",
   "metadata": {},
   "source": [
    "## Europa im Zentrum\n",
    "Beim Blick auf die Herkunft der KomponistInnen liegt das Zentrum weiterhin klar in Europa."
   ]
  },
  {
   "cell_type": "code",
   "execution_count": 430,
   "metadata": {},
   "outputs": [
    {
     "data": {
      "text/plain": [
       "Index(['Spielstätte', 'Ort', 'Titel', 'Anzahl', 'Komponist', 'Komponist_ber',\n",
       "       'Geburtsort', 'Geschlecht', 'Geburtsjahr', 'Alter', 'Sterbedatum',\n",
       "       'Verstorben', 'Art', 'Bemerkung'],\n",
       "      dtype='object')"
      ]
     },
     "execution_count": 430,
     "metadata": {},
     "output_type": "execute_result"
    }
   ],
   "source": [
    "df.columns"
   ]
  },
  {
   "cell_type": "code",
   "execution_count": 431,
   "metadata": {},
   "outputs": [
    {
     "data": {
      "text/html": [
       "<div>\n",
       "<style scoped>\n",
       "    .dataframe tbody tr th:only-of-type {\n",
       "        vertical-align: middle;\n",
       "    }\n",
       "\n",
       "    .dataframe tbody tr th {\n",
       "        vertical-align: top;\n",
       "    }\n",
       "\n",
       "    .dataframe thead th {\n",
       "        text-align: right;\n",
       "    }\n",
       "</style>\n",
       "<table border=\"1\" class=\"dataframe\">\n",
       "  <thead>\n",
       "    <tr style=\"text-align: right;\">\n",
       "      <th></th>\n",
       "      <th>Komponist_ber</th>\n",
       "      <th>Geburtsort</th>\n",
       "    </tr>\n",
       "  </thead>\n",
       "  <tbody>\n",
       "    <tr>\n",
       "      <th>90</th>\n",
       "      <td>Charles Gounod</td>\n",
       "      <td>Paris</td>\n",
       "    </tr>\n",
       "  </tbody>\n",
       "</table>\n",
       "</div>"
      ],
      "text/plain": [
       "     Komponist_ber Geburtsort\n",
       "90  Charles Gounod      Paris"
      ]
     },
     "execution_count": 431,
     "metadata": {},
     "output_type": "execute_result"
    }
   ],
   "source": [
    "herkunft = df[['Komponist_ber', 'Geburtsort']]\n",
    "herkunft.sample()"
   ]
  },
  {
   "cell_type": "code",
   "execution_count": 432,
   "metadata": {},
   "outputs": [
    {
     "data": {
      "text/plain": [
       "(159, 2)"
      ]
     },
     "execution_count": 432,
     "metadata": {},
     "output_type": "execute_result"
    }
   ],
   "source": [
    "herkunft.shape"
   ]
  },
  {
   "cell_type": "code",
   "execution_count": 433,
   "metadata": {},
   "outputs": [],
   "source": [
    "herkunft = herkunft.drop_duplicates()"
   ]
  },
  {
   "cell_type": "code",
   "execution_count": 434,
   "metadata": {},
   "outputs": [
    {
     "data": {
      "text/plain": [
       "(66, 2)"
      ]
     },
     "execution_count": 434,
     "metadata": {},
     "output_type": "execute_result"
    }
   ],
   "source": [
    "herkunft.shape"
   ]
  },
  {
   "cell_type": "code",
   "execution_count": 435,
   "metadata": {},
   "outputs": [],
   "source": [
    "# Daten für Datawrapper exportieren \n",
    "# herkunft.to_clipboard()"
   ]
  },
  {
   "cell_type": "code",
   "execution_count": 436,
   "metadata": {},
   "outputs": [
    {
     "data": {
      "text/html": [
       "\n",
       "        <iframe\n",
       "            width=\"320\"\n",
       "            height=\"200\"\n",
       "            src=\"//datawrapper.dwcdn.net/qWU0T/4/\"\n",
       "            frameborder=\"0\"\n",
       "            allowfullscreen\n",
       "        ></iframe>\n",
       "        "
      ],
      "text/plain": [
       "<IPython.lib.display.IFrame at 0x7f5d5e950c18>"
      ]
     },
     "execution_count": 436,
     "metadata": {},
     "output_type": "execute_result"
    }
   ],
   "source": [
    "# iFrame der fertigen Grafik \n",
    "IFrame('//datawrapper.dwcdn.net/qWU0T/4/', width='320', height='200')"
   ]
  },
  {
   "cell_type": "code",
   "execution_count": 437,
   "metadata": {},
   "outputs": [
    {
     "data": {
      "text/html": [
       "\n",
       "        <iframe\n",
       "            width=\"320\"\n",
       "            height=\"200\"\n",
       "            src=\"//datawrapper.dwcdn.net/OttGi/1/\"\n",
       "            frameborder=\"0\"\n",
       "            allowfullscreen\n",
       "        ></iframe>\n",
       "        "
      ],
      "text/plain": [
       "<IPython.lib.display.IFrame at 0x7f5d5e950208>"
      ]
     },
     "execution_count": 437,
     "metadata": {},
     "output_type": "execute_result"
    }
   ],
   "source": [
    "# iFrame der fertigen Grafik \n",
    "IFrame('//datawrapper.dwcdn.net/OttGi/1/', width='320', height='200')"
   ]
  }
 ],
 "metadata": {
  "kernelspec": {
   "display_name": "Python 3",
   "language": "python",
   "name": "python3"
  },
  "language_info": {
   "codemirror_mode": {
    "name": "ipython",
    "version": 3
   },
   "file_extension": ".py",
   "mimetype": "text/x-python",
   "name": "python",
   "nbconvert_exporter": "python",
   "pygments_lexer": "ipython3",
   "version": "3.6.7"
  }
 },
 "nbformat": 4,
 "nbformat_minor": 2
}
